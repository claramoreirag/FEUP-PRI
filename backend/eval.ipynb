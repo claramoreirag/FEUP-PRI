{
 "cells": [
  {
   "cell_type": "code",
   "execution_count": null,
   "metadata": {},
   "outputs": [],
   "source": [
    "import requests\n",
    "import pandas as pd\n",
    "import matplotlib.pyplot as plt\n",
    "from sklearn.metrics import PrecisionRecallDisplay\n",
    "import numpy as np\n"
   ]
  },
  {
   "cell_type": "markdown",
   "metadata": {},
   "source": [
    "## Query 1\n",
    "\n",
    "Ryan Banister AND hillary"
   ]
  },
  {
   "cell_type": "code",
   "execution_count": null,
   "metadata": {},
   "outputs": [],
   "source": [
    "query1=\"http://localhost:8983/solr/system1/select?q=Ryan%20Banister%20hillary&q.op=AND&defType=edismax&indent=true&qf=title%20text%20type%20thread_title%20site_url%20author&rows=30&stopwords=true&lowercaseOperators=true&debugQuery=false&fl=*\"\n",
    "results1= requests.get(query1).json()['response']['docs']\n",
    "\n",
    "\n"
   ]
  },
  {
   "cell_type": "markdown",
   "metadata": {},
   "source": [
    "## Query 2\n",
    "\n",
    "site_url:\"dailywire.com\" AND (title:\"hillary\" OR thread_title:\"hillary\")\n",
    "\n"
   ]
  },
  {
   "cell_type": "code",
   "execution_count": null,
   "metadata": {},
   "outputs": [],
   "source": [
    "query2=\"http://localhost:8983/solr/#/system0/query?q=dailywire.com%20hillary&q.op=AND&defType=edismax&indent=true&qf=title%20text%20thread_title%20site_url\"\n",
    "results2 = requests.get(query2).json()['response']['docs']\n",
    "\n",
    "http://localhost:8983/solr/#/system2/query?q=site_url:%22dailywire.com%22%20AND%20(title:%22hillary%22%20OR%20thread_title:%22hillary%22)&q.op=AND&indent=true"
   ]
  },
  {
   "cell_type": "markdown",
   "metadata": {},
   "source": [
    "## Query 3\n",
    "\n",
    "Cliche"
   ]
  },
  {
   "cell_type": "code",
   "execution_count": null,
   "metadata": {},
   "outputs": [],
   "source": [
    "query3=\"http://localhost:8983/solr/#/system0/query?q=cliche&q.op=OR&defType=edismax&indent=true&qf=title%20text%20type%20thread_title%20site_url\"\n",
    "\n",
    "results3 = requests.get(query3).json()['response']['docs']"
   ]
  },
  {
   "cell_type": "code",
   "execution_count": null,
   "metadata": {},
   "outputs": [],
   "source": []
  },
  {
   "cell_type": "code",
   "execution_count": null,
   "metadata": {},
   "outputs": [],
   "source": [
    "#terror AND US\n",
    "\n",
    "http://localhost:8983/solr/#/system1/query?q=terror%20AND%20US&q.op=AND&defType=edismax&indent=true&qf=title%20text%20thread_title%20site_url%20country"
   ]
  },
  {
   "cell_type": "code",
   "execution_count": null,
   "metadata": {},
   "outputs": [],
   "source": []
  },
  {
   "cell_type": "code",
   "execution_count": null,
   "metadata": {},
   "outputs": [],
   "source": [
    "http://localhost:8983/solr/#/system0/query?q=Colin%20AND%20Trump&q.op=OR&defType=edismax&indent=true&qf=title%20text%20type%20thread_title%20site_url%20author%5E4&rows=60"
   ]
  }
 ],
 "metadata": {
  "language_info": {
   "codemirror_mode": {
    "name": "ipython",
    "version": 3
   },
   "file_extension": ".py",
   "mimetype": "text/x-python",
   "name": "python",
   "nbconvert_exporter": "python",
   "pygments_lexer": "ipython3",
   "version": 3
  },
  "orig_nbformat": 2
 },
 "nbformat": 4,
 "nbformat_minor": 2
}